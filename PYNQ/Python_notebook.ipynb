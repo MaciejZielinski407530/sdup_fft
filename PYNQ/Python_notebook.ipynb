{
 "cells": [
  {
   "cell_type": "code",
   "execution_count": 1,
   "id": "c5921c1c-ed3e-4672-afb1-04b584d9b052",
   "metadata": {},
   "outputs": [],
   "source": [
    "#IMPORTANT IMPORT\n",
    "from pynq import Overlay\n",
    "from pynq import allocate\n",
    "\n",
    "import numpy as np\n",
    "import time\n",
    "import math\n",
    "import matplotlib.pyplot as plt"
   ]
  },
  {
   "cell_type": "code",
   "execution_count": 70,
   "id": "bb5c71f6-c3a2-4ee8-be07-3525e6f249b1",
   "metadata": {
    "tags": []
   },
   "outputs": [],
   "source": [
    "# Sample generator\n",
    "N = 8\n",
    "FXP = 1024\n",
    "data_real = np.array([])\n",
    "data_imag = np.array([])\n",
    "data_complex = np.array([])\n",
    "\n",
    "for i in range (N):\n",
    "    data_real = np.append(data_real,np.random.rand())\n",
    "    data_imag = np.append(data_imag,np.random.rand())\n",
    "\n",
    "data_complex = data_real + 1j*data_imag    \n",
    "\n",
    "\n",
    "#Convert data to data fixed-point 14:10\n",
    "for i in range (N):\n",
    "    data_real[i] =  int(data_real[i]*FXP)\n",
    "    data_imag[i] =  int(data_imag[i]*FXP)\n",
    "  "
   ]
  },
  {
   "cell_type": "code",
   "execution_count": 71,
   "id": "a6ee4b0f-2762-4ade-aaa1-7fd2a1ff604d",
   "metadata": {},
   "outputs": [],
   "source": [
    "#Sample function\n",
    "\n",
    "def fft_sample(x):\n",
    "    N = len(x)\n",
    "    if N == 1:\n",
    "        return [x[0]]\n",
    "    X = [0] * N\n",
    "    even = fft_sample(x[:N:2])\n",
    "    odd = fft_sample(x[1:N:2])\n",
    "    for k in range(N // 2):\n",
    "        w = math.e ** (-2j * math.pi * k / N)\n",
    "        X[k] = even[k] + w * odd[k]\n",
    "        X[k + N // 2] = even[k] - w * odd[k]\n",
    "    return X"
   ]
  },
  {
   "cell_type": "code",
   "execution_count": 72,
   "id": "a6689854-51d5-43c3-94ee-e19452a792dc",
   "metadata": {},
   "outputs": [],
   "source": [
    "## Overlay for FFT Version 1 (with one butterfly)\n",
    "fft_ov = Overlay(\"fft_seq_wrapper.xsa\")\n",
    "fft_seq = fft_ov.fft_seq_ip_0.mmio"
   ]
  },
  {
   "cell_type": "code",
   "execution_count": 73,
   "id": "8390325d-a12e-4a8d-839f-78fbe9d6b945",
   "metadata": {},
   "outputs": [],
   "source": [
    "# FFT Implementation on FPGA (with one butterfly)\n",
    "\n",
    "N_size = 8\n",
    "start_offset = 8\n",
    "data_en_offset = 12\n",
    "ready_offset = 16\n",
    "in_R_offset = 20\n",
    "in_I_offset = 24\n",
    "out_R_offset = 28\n",
    "out_I_offset = 32\n",
    "\n",
    "\n",
    "def convert_for_signed_24bit(number):\n",
    "    if number >= 0x800000:\n",
    "        return number - 0x1000000\n",
    "    else:\n",
    "        return number\n",
    "\n",
    "def fft_sequential(in_r, in_i):\n",
    "    out_r = np.array([])\n",
    "    out_i = np.array([])\n",
    "    \n",
    "    fft_seq.write(start_offset,1)    \n",
    "    \n",
    "    for i in range(N_size):\n",
    "        fft_seq.write(data_en_offset,0)\n",
    "        fft_seq.write(in_R_offset,int(in_r[i]))\n",
    "        fft_seq.write(in_I_offset,int(in_i[i]))\n",
    "        fft_seq.write(data_en_offset,1)\n",
    "        \n",
    "    fft_seq.write(data_en_offset,0) \n",
    "    while (fft_seq.read(ready_offset) == 0):\n",
    "        pass\n",
    "     \n",
    "    for i in range(N_size):\n",
    "        fft_seq.write(data_en_offset,1)\n",
    "        out_r = np.append(out_r, fft_seq.read(out_R_offset))\n",
    "        out_i = np.append(out_i, fft_seq.read(out_I_offset))\n",
    "        fft_seq.write(data_en_offset,0)\n",
    "    for i in range(N_size):\n",
    "        out_r[i] = convert_for_signed_24bit(out_r[i])\n",
    "        out_i[i] = convert_for_signed_24bit(out_i[i])\n",
    "    fft_seq.write(start_offset,0)\n",
    "    return (out_r, out_i)"
   ]
  },
  {
   "cell_type": "code",
   "execution_count": 74,
   "id": "0a12d088-182b-427c-a17a-e8440e0ee5f9",
   "metadata": {},
   "outputs": [
    {
     "name": "stdout",
     "output_type": "stream",
     "text": [
      "RMSE: 0.002570921489581\n"
     ]
    },
    {
     "data": {
      "image/png": "[encoded data removed]",
      "text/plain": [
       "<Figure size 720x288 with 1 Axes>"
      ]
     },
     "metadata": {
      "needs_background": "light"
     },
     "output_type": "display_data"
    }
   ],
   "source": [
    "#Implementation comparison -> Sample function vs FFT Implementation on FPGA (with one butterfly)\n",
    "\n",
    "#Compute FFT using sample function\n",
    "X_sample = fft_sample(data_complex)\n",
    "\n",
    "#Compute FFT using FFT Implementation on FPGA (with one butterfly)\n",
    "X_fpga_r_seq , X_fpga_i_seq = fft_sequential(data_real, data_imag)\n",
    "\n",
    "X_fpga_complex_seq = np.array([])\n",
    "X_fpga_complex_seq = X_fpga_r_seq + 1j*X_fpga_i_seq\n",
    "X_fpga_complex_seq = X_fpga_complex_seq/FXP\n",
    "\n",
    "# Error between sample implementation and fpga implementation\n",
    "X_err_seq = np.abs(X_fpga_complex_seq - X_sample)**2\n",
    "# RMSE\n",
    "X_RMSE_seq = np.sqrt(np.mean(X_err_seq))\n",
    "print('RMSE:', np.round(X_RMSE_seq, 15))\n",
    "fig, ax = plt.subplots(nrows=1, ncols=1, figsize=(10, 4))\n",
    "ax.plot(X_err_seq)\n",
    "ax.set_ylabel('Samples error')\n",
    "ax.set_xlabel('Samples')\n",
    "plt.grid()\n",
    "plt.show()"
   ]
  },
  {
   "cell_type": "code",
   "execution_count": 75,
   "id": "b8f8437e-b30c-4404-967c-410320fb2a16",
   "metadata": {},
   "outputs": [],
   "source": [
    "## Overlay for FFT Version 2 (with parallel butterflies)\n",
    "fft_ov = Overlay(\"fft_parallel_wrapper.xsa\")\n",
    "fft_parallel = fft_ov.fft_parallel_ip_0.mmio"
   ]
  },
  {
   "cell_type": "code",
   "execution_count": 76,
   "id": "8a4e7307-b47e-4c9d-9815-84a1541080ac",
   "metadata": {},
   "outputs": [],
   "source": [
    "# FFT Implementation on FPGA (with parallel butterflies)\n",
    "\n",
    "N_size = 8\n",
    "start_offset = 8\n",
    "data_en_offset = 12\n",
    "ready_offset = 16\n",
    "in_R_offset = 20\n",
    "in_I_offset = 24\n",
    "out_R_offset = 28\n",
    "out_I_offset = 32\n",
    "\n",
    "\n",
    "def convert_for_signed_24bit(number):\n",
    "    if number >= 0x800000:\n",
    "        return number - 0x1000000\n",
    "    else:\n",
    "        return number\n",
    "\n",
    "def fft_parall(in_r, in_i):\n",
    "    out_r = np.array([])\n",
    "    out_i = np.array([])\n",
    "    \n",
    "    fft_parallel.write(start_offset,1)    \n",
    "    \n",
    "    for i in range(N_size):\n",
    "        fft_parallel.write(data_en_offset,0)\n",
    "        fft_parallel.write(in_R_offset,int(in_r[i]))\n",
    "        fft_parallel.write(in_I_offset,int(in_i[i]))\n",
    "        fft_parallel.write(data_en_offset,1)\n",
    "    \n",
    "    fft_parallel.write(data_en_offset,0)    \n",
    "    while (fft_parallel.read(ready_offset) == 0):\n",
    "        pass\n",
    "    \n",
    "    for i in range(N_size):\n",
    "        fft_parallel.write(data_en_offset,1)\n",
    "        out_r = np.append(out_r, fft_parallel.read(out_R_offset))\n",
    "        out_i = np.append(out_i, fft_parallel.read(out_I_offset))\n",
    "        fft_parallel.write(data_en_offset,0)\n",
    "    for i in range(N_size):\n",
    "        out_r[i] = convert_for_signed_24bit(out_r[i])\n",
    "        out_i[i] = convert_for_signed_24bit(out_i[i])\n",
    "    fft_parallel.write(start_offset,0)\n",
    "    return (out_r, out_i)"
   ]
  },
  {
   "cell_type": "code",
   "execution_count": 79,
   "id": "c08c6663-a1a2-4c59-891e-c63682ff2d23",
   "metadata": {},
   "outputs": [
    {
     "name": "stdout",
     "output_type": "stream",
     "text": [
      "RMSE: 0.002570921489581\n"
     ]
    },
    {
     "data": {
      "image/png": "[encoded data removed]",
      "text/plain": [
       "<Figure size 720x288 with 1 Axes>"
      ]
     },
     "metadata": {
      "needs_background": "light"
     },
     "output_type": "display_data"
    }
   ],
   "source": [
    "#Implementation comparison -> Sample function vs FFT Implementation on FPGA (with parallel butterflies)\n",
    "\n",
    "#Compute FFT using sample function\n",
    "X_sample = fft_sample(data_complex)\n",
    "\n",
    "#Compute FFT using FFT Implementation on FPGA (with parallel butterflies)\n",
    "X_fpga_r_parallel , X_fpga_i_parallel = fft_parall(data_real, data_imag)\n",
    "\n",
    "X_fpga_complex_parallel = np.array([])\n",
    "X_fpga_complex_parallel = X_fpga_r_parallel + 1j*X_fpga_i_parallel\n",
    "X_fpga_complex_parallel = X_fpga_complex_parallel/FXP\n",
    "\n",
    "# Error between sample implementation and fpga implementation\n",
    "X_err_parallel = np.abs(X_fpga_complex_parallel - X_sample)**2\n",
    "# RMSE\n",
    "X_RMSE_parallel = np.sqrt(np.mean(X_err_parallel))\n",
    "print('RMSE:', np.round(X_RMSE_parallel, 15))\n",
    "fig, ax = plt.subplots(nrows=1, ncols=1, figsize=(10, 4))\n",
    "ax.plot(X_err_parallel)\n",
    "ax.set_ylabel('Samples error')\n",
    "ax.set_xlabel('Samples')\n",
    "plt.grid()\n",
    "plt.show()"
   ]
  },
  {
   "cell_type": "code",
   "execution_count": 83,
   "id": "1bfaa2d5-2e99-4d6b-8f82-1c4768b7f403",
   "metadata": {},
   "outputs": [],
   "source": [
    "## Overlay for FFT Version 3 (divided into stages)\n",
    "fft_ov = Overlay(\"fft_divided_stage_wrapper.xsa\")\n",
    "fft_stages = fft_ov.fft_pipe_N8_0.mmio"
   ]
  },
  {
   "cell_type": "code",
   "execution_count": 84,
   "id": "373c85e3-d590-4e9a-88f6-3df8a3511015",
   "metadata": {},
   "outputs": [],
   "source": [
    "# FFT Implementation on FPGA (divided into stages)\n",
    "N_size = 8\n",
    "start_offset = 0\n",
    "ready_offset = 132\n",
    "in_buffer_offset = [x*4 for x in range(1,17)]\n",
    "out_buffer_offset = [x*4 for x in range(17,33)]\n",
    "\n",
    "def convert_for_signed_24bit(number):\n",
    "    if number >= 0x800000:\n",
    "        return number - 0x1000000\n",
    "    else:\n",
    "        return number\n",
    "\n",
    "def fft_divided_into_stages(in_r, in_i):\n",
    "    out_r = np.array([])\n",
    "    out_i = np.array([])\n",
    "    fft_stages.write(start_offset,0)\n",
    "    for i in range(N_size):\n",
    "        fft_stages.write(in_buffer_offset[i],int(in_r[i]))\n",
    "        fft_stages.write(in_buffer_offset[i+N_size],int(in_i[i]))\n",
    "    \n",
    "    fft_stages.write(start_offset,1)\n",
    "    while (fft_stages.read(ready_offset) == 0):\n",
    "        pass \n",
    "    for i in range(N_size):\n",
    "        out_r = np.append(out_r, fft_stages.read(out_buffer_offset[i]))\n",
    "        out_i = np.append(out_i, fft_stages.read(out_buffer_offset[i+N_size]))\n",
    "    for i in range(N_size):\n",
    "        out_r[i] = convert_for_signed_24bit(out_r[i])\n",
    "        out_i[i] = convert_for_signed_24bit(out_i[i])\n",
    "    \n",
    "    return (out_r, out_i)\n",
    "    "
   ]
  },
  {
   "cell_type": "code",
   "execution_count": 85,
   "id": "c22f0112-752f-474a-905a-3bc0d79e15da",
   "metadata": {},
   "outputs": [
    {
     "name": "stdout",
     "output_type": "stream",
     "text": [
      "RMSE: 0.002570921489581\n"
     ]
    },
    {
     "data": {
      "image/png": "[encoded data removed]",
      "text/plain": [
       "<Figure size 720x288 with 1 Axes>"
      ]
     },
     "metadata": {
      "needs_background": "light"
     },
     "output_type": "display_data"
    }
   ],
   "source": [
    "#Implementation comparison -> Sample function vs FFT Implementation on FPGA (divided into stages)\n",
    "\n",
    "#Compute FFT using sample function\n",
    "X_sample = fft_sample(data_complex)\n",
    "\n",
    "#Compute FFT using FFT Implementation on FPGA (divided into stages)\n",
    "X_fpga_r_stages , X_fpga_i_stages = fft_divided_into_stages(data_real, data_imag)\n",
    "\n",
    "X_fpga_complex_stages = np.array([])\n",
    "X_fpga_complex_stages = X_fpga_r_stages + 1j*X_fpga_i_stages\n",
    "X_fpga_complex_stages = X_fpga_complex_stages/FXP\n",
    "\n",
    "# Error between sample implementation and fpga implementation\n",
    "X_err_stages = np.abs(X_fpga_complex_stages - X_sample)**2\n",
    "# RMSE\n",
    "X_RMSE_stages = np.sqrt(np.mean(X_err_stages))\n",
    "print('RMSE:', np.round(X_RMSE_stages, 15))\n",
    "fig, ax = plt.subplots(nrows=1, ncols=1, figsize=(10, 4))\n",
    "ax.plot(X_err_pipeN8)\n",
    "ax.set_ylabel('Samples error')\n",
    "ax.set_xlabel('Samples')\n",
    "plt.grid()\n",
    "plt.show()"
   ]
  },
  {
   "cell_type": "code",
   "execution_count": 86,
   "id": "2e733d6e-6e1b-4bd7-95cf-3e0c6ca553fd",
   "metadata": {},
   "outputs": [
    {
     "name": "stdout",
     "output_type": "stream",
     "text": [
      "RMSE FFT Version 1 (with one butterfly): 0.002570921489581\n",
      "RMSE FFT Version 2 (with parallel butterflies): 0.002570921489581\n",
      "RMSE FFT Version 3 (divided into stages): 0.002570921489581\n"
     ]
    }
   ],
   "source": [
    "#Implementation comparison\n",
    "print('RMSE FFT Version 1 (with one butterfly):', np.round(X_RMSE_seq, 15))\n",
    "print('RMSE FFT Version 2 (with parallel butterflies):', np.round(X_RMSE_parallel, 15))\n",
    "print('RMSE FFT Version 3 (divided into stages):', np.round(X_RMSE_stages, 15))"
   ]
  },
  {
   "cell_type": "code",
   "execution_count": 187,
   "id": "368a0fea-fb7c-49bf-a221-493e90a48913",
   "metadata": {},
   "outputs": [],
   "source": [
    "# Sample generator for pipeline version FFT\n",
    "N_pipeline = 8\n",
    "N_packs = 1\n",
    "FXP_pipeline = 64\n",
    "data_real_pipeline = np.array([],dtype=np.int16)\n",
    "data_imag_pipeline = np.array([],dtype=np.int16)\n",
    "data_complex_pipeline = np.array([])\n",
    "\n",
    "for i in range (N_packs*N_pipeline):\n",
    "    data_real_pipeline = np.append(data_real_pipeline,np.random.rand())\n",
    "    data_imag_pipeline = np.append(data_imag_pipeline,np.random.rand())\n",
    "\n",
    "data_complex_pipeline = data_real_pipeline + 1j*data_imag_pipeline\n",
    "#Convert data to data fixed-point 10:6\n",
    "for i in range (N_packs*N_pipeline):\n",
    "    data_real_pipeline[i] =  int(data_real_pipeline[i]*FXP_pipeline)\n",
    "    data_imag_pipeline[i] =  int(data_imag_pipeline[i]*FXP_pipeline)"
   ]
  },
  {
   "cell_type": "code",
   "execution_count": 188,
   "id": "63f6b428-c3e8-4d7a-ac3b-f1ad8dbe4d9a",
   "metadata": {},
   "outputs": [],
   "source": [
    "fft_ov = Overlay(\"fft.xsa\")\n",
    "fft_pipe = fft_ov.axi_dma_0"
   ]
  },
  {
   "cell_type": "code",
   "execution_count": 189,
   "id": "935b539c-5c63-42df-995b-271f5253bb67",
   "metadata": {},
   "outputs": [
    {
     "name": "stdout",
     "output_type": "stream",
     "text": [
      "[3997750 1572903 1048604 2883590 3932171 1441793 3866668 3801146]\n"
     ]
    }
   ],
   "source": [
    "in_buffer = allocate(shape=(N_packs*N_pipeline,), dtype=np.uint32)\n",
    "out_buffer = allocate(shape=(N_packs*N_pipeline,), dtype=np.uint32)\n",
    "array1_uint32 = data_real_pipeline.astype(np.uint32)\n",
    "array2_uint32 = data_imag_pipeline.astype(np.uint32)\n",
    "\n",
    "for i in range(N_packs*N_pipeline):\n",
    "    in_buffer[i] =(array2_uint32[i] << 16) | array1_uint32[i]\n",
    "print(in_buffer)"
   ]
  },
  {
   "cell_type": "code",
   "execution_count": 190,
   "id": "27a93b67-e946-4e1b-8737-e34eb6f476c9",
   "metadata": {},
   "outputs": [],
   "source": [
    "fft_pipe.sendchannel.transfer(in_buffer)\n",
    "fft_pipe.recvchannel.transfer(out_buffer)"
   ]
  },
  {
   "cell_type": "code",
   "execution_count": 191,
   "id": "417110ac-37ab-4e2b-836c-f7c265cc2bf6",
   "metadata": {},
   "outputs": [
    {
     "name": "stdout",
     "output_type": "stream",
     "text": [
      "RMSE for data pack [ 1 ] : 0.034774789453433\n"
     ]
    },
    {
     "data": {
      "image/png": "[encoded data removed]",
      "text/plain": [
       "<Figure size 720x288 with 1 Axes>"
      ]
     },
     "metadata": {
      "needs_background": "light"
     },
     "output_type": "display_data"
    }
   ],
   "source": [
    "array1_out = np.array([],dtype=np.int16)\n",
    "array2_out = np.array([],dtype=np.int16)\n",
    "X_sample_pipeline = []\n",
    "X_fpga_pipeline = []\n",
    "X_err_pipeline = []\n",
    "X_RMSE_pipeline = []\n",
    "\n",
    "for i in range(N_packs*N_pipeline):\n",
    "    array1_out = np.append(array1_out, (out_buffer[i] & 0x0000ffff).astype(np.int16))\n",
    "    array2_out = np.append(array2_out, (out_buffer[i] >> 16).astype(np.int16))\n",
    "    \n",
    "array1_out =array1_out/FXP_pipeline\n",
    "array2_out =array2_out/FXP_pipeline\n",
    "\n",
    "X_pipe = array1_out + 1j*array2_out\n",
    "for i in range(N_packs):\n",
    "    X_fpga_pipeline.append(X_pipe[N_pipeline*i:N_pipeline*(i+1)])\n",
    "for i in range(N_packs):\n",
    "    X_sample_pipeline.append(fft_sample(data_complex_pipeline[N_pipeline*i:N_pipeline*(i+1)]))\n",
    "\n",
    "for i in range(N_packs):    \n",
    "    X_err_pipeline.append(np.abs(X_fpga_pipeline[i] - X_sample_pipeline[i])**2)\n",
    "    X_RMSE_pipeline.append(np.sqrt(np.mean(X_err_pipeline)))\n",
    "\n",
    "for i in range(N_packs):\n",
    "    print('RMSE for data pack [',i+1,'] :', np.round(X_RMSE_pipeline[i], 15))\n",
    "    fig, ax = plt.subplots(nrows=1, ncols=1, figsize=(10, 4))\n",
    "    ax.plot(X_err_pipeline[i])\n",
    "    ax.set_ylabel('Samples error')\n",
    "    ax.set_xlabel('Samples')\n",
    "    plt.grid()\n",
    "    plt.show()"
   ]
  },
  {
   "cell_type": "code",
   "execution_count": 192,
   "id": "09b63134-5fbd-4245-88e7-845396c7de10",
   "metadata": {},
   "outputs": [],
   "source": [
    "del in_buffer\n",
    "del out_buffer"
   ]
  },
  {
   "cell_type": "code",
   "execution_count": null,
   "id": "a9b2218c-7357-4383-85a5-745f6986cca5",
   "metadata": {},
   "outputs": [],
   "source": []
  }
 ],
 "metadata": {
  "kernelspec": {
   "display_name": "Python 3 (ipykernel)",
   "language": "python",
   "name": "python3"
  },
  "language_info": {
   "codemirror_mode": {
    "name": "ipython",
    "version": 3
   },
   "file_extension": ".py",
   "mimetype": "text/x-python",
   "name": "python",
   "nbconvert_exporter": "python",
   "pygments_lexer": "ipython3",
   "version": "3.10.12"
  }
 },
 "nbformat": 4,
 "nbformat_minor": 5
}
