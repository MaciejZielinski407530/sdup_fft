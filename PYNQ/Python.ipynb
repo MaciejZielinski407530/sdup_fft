{
 "cells": [
  {
   "cell_type": "code",
   "execution_count": 9,
   "id": "1bfaa2d5-2e99-4d6b-8f82-1c4768b7f403",
   "metadata": {},
   "outputs": [],
   "source": [
    "from pynq import Overlay\n",
    "\n",
    "#fft_ov = Overlay(\"design_1_wrapper.xsa\")\n",
    "fft_ov = Overlay(\"design_1_wrapperV2.xsa\")\n",
    "fft_pipeN8 = fft_ov.fft_pipe_N8_0.mmio"
   ]
  },
  {
   "cell_type": "code",
   "execution_count": 10,
   "id": "bb5c71f6-c3a2-4ee8-be07-3525e6f249b1",
   "metadata": {
    "tags": []
   },
   "outputs": [
    {
     "name": "stdout",
     "output_type": "stream",
     "text": [
      "[940. 557. 151.  42. 102. 640. 597. 194.]\n",
      "[643. 281. 384. 875. 995. 595. 570. 842.]\n",
      "[0.91867303+0.62856508j 0.54403278+0.27526875j 0.14779289+0.3750893j\n",
      " 0.04137681+0.854954j   0.09975619+0.97202133j 0.62540415+0.58120618j\n",
      " 0.5838564 +0.55709187j 0.18984686+0.82248115j]\n"
     ]
    }
   ],
   "source": [
    "# Sample generator\n",
    "import numpy as np\n",
    "N = 8\n",
    "FXP = 1024\n",
    "data_real = np.array([])\n",
    "data_imag = np.array([])\n",
    "data_complex = np.array([])\n",
    "\n",
    "for i in range (N):\n",
    "    data_real = np.append(data_real,np.random.rand())\n",
    "    data_imag = np.append(data_imag,np.random.rand())\n",
    "\n",
    "    \n",
    "data_complex = data_real + 1j*data_imag\n",
    "\n",
    "#Convert data to data fixed-point 14:10\n",
    "for i in range (N):\n",
    "    data_real[i] =  int(data_real[i]*FXP)\n",
    "    data_imag[i] =  int(data_imag[i]*FXP)\n",
    "\n",
    "    \n",
    "    \n",
    "print(data_real)\n",
    "print(data_imag)\n",
    "print(data_complex)"
   ]
  },
  {
   "cell_type": "code",
   "execution_count": 11,
   "id": "a6ee4b0f-2762-4ade-aaa1-7fd2a1ff604d",
   "metadata": {},
   "outputs": [],
   "source": [
    "#Sample function\n",
    "import math\n",
    "\n",
    "def fft_sample(x):\n",
    "    N = len(x)\n",
    "    if N == 1:\n",
    "        return [x[0]]\n",
    "    X = [0] * N\n",
    "    even = fft_sample(x[:N:2])\n",
    "    odd = fft_sample(x[1:N:2])\n",
    "    for k in range(N // 2):\n",
    "        w = math.e ** (-2j * math.pi * k / N)\n",
    "        X[k] = even[k] + w * odd[k]\n",
    "        X[k + N // 2] = even[k] - w * odd[k]\n",
    "    return X"
   ]
  },
  {
   "cell_type": "code",
   "execution_count": 28,
   "id": "373c85e3-d590-4e9a-88f6-3df8a3511015",
   "metadata": {},
   "outputs": [],
   "source": [
    "# FFT Implementation on FPGA (Pipeline only for FFT N = 8)\n",
    "\n",
    "N_size = 8\n",
    "start_offset = 0\n",
    "ready_offset = 132\n",
    "in_buffer_offset = [x*4 for x in range(1,17)]\n",
    "out_buffer_offset = [x*4 for x in range(17,33)]\n",
    "\n",
    "def convert_for_signed_24bit(number):\n",
    "    if number >= 0x800000:\n",
    "        return number - 0x1000000\n",
    "    else:\n",
    "        return number\n",
    "\n",
    "def fft_pipelineN8(in_r, in_i):\n",
    "    out_r = np.array([])\n",
    "    out_i = np.array([])\n",
    "    fft_pipeN8.write(start_offset,0)\n",
    "    for i in range(N_size):\n",
    "        fft_pipeN8.write(in_buffer_offset[i],int(in_r[i]))\n",
    "        fft_pipeN8.write(in_buffer_offset[i+N_size],int(in_i[i]))\n",
    "    start2_ = time.time()\n",
    "    fft_pipeN8.write(start_offset,1)    \n",
    "    while (fft_pipeN8.read(ready_offset) == 0):\n",
    "        pass \n",
    "    stop2_ = time.time()\n",
    "    for i in range(N_size):\n",
    "        out_r = np.append(out_r, fft_pipeN8.read(out_buffer_offset[i]))\n",
    "        out_i = np.append(out_i, fft_pipeN8.read(out_buffer_offset[i+N_size]))\n",
    "    for i in range(N_size):\n",
    "        out_r[i] = convert_for_signed_24bit(out_r[i])\n",
    "        out_i[i] = convert_for_signed_24bit(out_i[i])\n",
    "    #fft_pipeN8.write(start_offset,0)\n",
    "    return (out_r, out_i, stop2_-start2_)\n",
    "    "
   ]
  },
  {
   "cell_type": "code",
   "execution_count": 29,
   "id": "c22f0112-752f-474a-905a-3bc0d79e15da",
   "metadata": {},
   "outputs": [],
   "source": [
    "import time\n",
    "\n",
    "#Compute FFT using sample function\n",
    "start1 = time.time()\n",
    "X_sample = fft_sample(data_complex)\n",
    "stop1 = time.time()\n",
    "\n",
    "#Compute FFT using FFT Implementation on FPGA (Pipeline only for FFT N = 8)\n",
    "start2 = time.time()\n",
    "X_fpga_r , X_fpga_i, calc_time = fft_pipelineN8(data_real, data_imag)\n",
    "stop2 = time.time()\n",
    "\n",
    "\n",
    "X_fpga_complex = np.array([])\n",
    "X_fpga_complex = X_fpga_r + 1j*X_fpga_i\n",
    "X_fpga_complex = X_fpga_complex/1024"
   ]
  },
  {
   "cell_type": "code",
   "execution_count": 39,
   "id": "6767fc6b-0f6f-4428-9bfa-0c5db17bf381",
   "metadata": {},
   "outputs": [
    {
     "name": "stdout",
     "output_type": "stream",
     "text": [
      "Sample function -  Time =  0.0005178452\n",
      "Pipeline FFT N=8 - Time =  0.0015058517 (with data pushing and reading) \n",
      "Pipeline FFT N=8 - Time =  0.0000252724 (time only between START-READY state)\n",
      "RMSE: 0.00229131662017\n"
     ]
    },
    {
     "data": {
      "image/png": "[encoded data removed]",
      "text/plain": [
       "<Figure size 720x288 with 1 Axes>"
      ]
     },
     "metadata": {
      "needs_background": "light"
     },
     "output_type": "display_data"
    }
   ],
   "source": [
    "import matplotlib.pyplot as plt\n",
    "\n",
    "# Error between sample implementation and fpga implementation\n",
    "X_err = np.abs(X_fpga_complex - X_sample)**2\n",
    "# RMSE\n",
    "X_RMSE = np.sqrt(np.mean(X_err))\n",
    "print('Sample function -  Time = ',\"%.10f\" % (stop1-start1))\n",
    "print('Pipeline FFT N=8 - Time = ',\"%.10f\" % (stop2-start2),'(with data pushing and reading) ')\n",
    "print('Pipeline FFT N=8 - Time = ',\"%.10f\" % calc_time, '(time only between START-READY state)')\n",
    "print('RMSE:', np.round(X_RMSE, 15))\n",
    "fig, ax = plt.subplots(nrows=1, ncols=1, figsize=(10, 4))\n",
    "ax.plot(X_err)\n",
    "ax.set_ylabel('Samples bin error')\n",
    "ax.set_xlabel('Samples bin')\n",
    "plt.grid()\n",
    "plt.show()"
   ]
  },
  {
   "cell_type": "code",
   "execution_count": null,
   "id": "8a4e7307-b47e-4c9d-9815-84a1541080ac",
   "metadata": {},
   "outputs": [],
   "source": []
  }
 ],
 "metadata": {
  "kernelspec": {
   "display_name": "Python 3 (ipykernel)",
   "language": "python",
   "name": "python3"
  },
  "language_info": {
   "codemirror_mode": {
    "name": "ipython",
    "version": 3
   },
   "file_extension": ".py",
   "mimetype": "text/x-python",
   "name": "python",
   "nbconvert_exporter": "python",
   "pygments_lexer": "ipython3",
   "version": "3.10.12"
  }
 },
 "nbformat": 4,
 "nbformat_minor": 5
}
