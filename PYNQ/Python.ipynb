{
 "cells": [
  {
   "cell_type": "code",
   "execution_count": 5,
   "id": "c5921c1c-ed3e-4672-afb1-04b584d9b052",
   "metadata": {},
   "outputs": [],
   "source": [
    "#IMPORTANT IMPORT\n",
    "from pynq import Overlay\n",
    "import numpy as np\n",
    "import time\n",
    "import math\n",
    "import matplotlib.pyplot as plt"
   ]
  },
  {
   "cell_type": "code",
   "execution_count": 126,
   "id": "1bfaa2d5-2e99-4d6b-8f82-1c4768b7f403",
   "metadata": {},
   "outputs": [],
   "source": [
    "## Overlay for pipeline FFT only for N = 8\n",
    "fft_ov = Overlay(\"design_1_wrapperV2.xsa\")\n",
    "fft_pipeN8 = fft_ov.fft_pipe_N8_0.mmio"
   ]
  },
  {
   "cell_type": "code",
   "execution_count": 127,
   "id": "bb5c71f6-c3a2-4ee8-be07-3525e6f249b1",
   "metadata": {
    "tags": []
   },
   "outputs": [],
   "source": [
    "# Sample generator\n",
    "N = 8\n",
    "FXP = 1024\n",
    "data_real = np.array([])\n",
    "data_imag = np.array([])\n",
    "data_complex = np.array([])\n",
    "\n",
    "for i in range (N):\n",
    "    data_real = np.append(data_real,np.random.rand())\n",
    "    data_imag = np.append(data_imag,np.random.rand())\n",
    "\n",
    "    \n",
    "data_complex = data_real + 1j*data_imag\n",
    "\n",
    "#Convert data to data fixed-point 14:10\n",
    "for i in range (N):\n",
    "    data_real[i] =  int(data_real[i]*FXP)\n",
    "    data_imag[i] =  int(data_imag[i]*FXP)\n"
   ]
  },
  {
   "cell_type": "code",
   "execution_count": 128,
   "id": "a6ee4b0f-2762-4ade-aaa1-7fd2a1ff604d",
   "metadata": {},
   "outputs": [],
   "source": [
    "#Sample function\n",
    "\n",
    "def fft_sample(x):\n",
    "    N = len(x)\n",
    "    if N == 1:\n",
    "        return [x[0]]\n",
    "    X = [0] * N\n",
    "    even = fft_sample(x[:N:2])\n",
    "    odd = fft_sample(x[1:N:2])\n",
    "    for k in range(N // 2):\n",
    "        w = math.e ** (-2j * math.pi * k / N)\n",
    "        X[k] = even[k] + w * odd[k]\n",
    "        X[k + N // 2] = even[k] - w * odd[k]\n",
    "    return X"
   ]
  },
  {
   "cell_type": "code",
   "execution_count": 129,
   "id": "373c85e3-d590-4e9a-88f6-3df8a3511015",
   "metadata": {},
   "outputs": [],
   "source": [
    "# FFT Implementation on FPGA (Pipeline only for FFT N = 8)\n",
    "N_size = 8\n",
    "start_offset = 0\n",
    "ready_offset = 132\n",
    "in_buffer_offset = [x*4 for x in range(1,17)]\n",
    "out_buffer_offset = [x*4 for x in range(17,33)]\n",
    "\n",
    "def convert_for_signed_24bit(number):\n",
    "    if number >= 0x800000:\n",
    "        return number - 0x1000000\n",
    "    else:\n",
    "        return number\n",
    "\n",
    "def fft_pipelineN8(in_r, in_i):\n",
    "    out_r = np.array([])\n",
    "    out_i = np.array([])\n",
    "    fft_pipeN8.write(start_offset,0)\n",
    "    for i in range(N_size):\n",
    "        fft_pipeN8.write(in_buffer_offset[i],int(in_r[i]))\n",
    "        fft_pipeN8.write(in_buffer_offset[i+N_size],int(in_i[i]))\n",
    "    start2_ = time.time()\n",
    "    fft_pipeN8.write(start_offset,1)    \n",
    "    while (fft_pipeN8.read(ready_offset) == 0):\n",
    "        pass \n",
    "    stop2_ = time.time()\n",
    "    for i in range(N_size):\n",
    "        out_r = np.append(out_r, fft_pipeN8.read(out_buffer_offset[i]))\n",
    "        out_i = np.append(out_i, fft_pipeN8.read(out_buffer_offset[i+N_size]))\n",
    "    for i in range(N_size):\n",
    "        out_r[i] = convert_for_signed_24bit(out_r[i])\n",
    "        out_i[i] = convert_for_signed_24bit(out_i[i])\n",
    "    #fft_pipeN8.write(start_offset,0)\n",
    "    return (out_r, out_i, stop2_-start2_)\n",
    "    "
   ]
  },
  {
   "cell_type": "code",
   "execution_count": 131,
   "id": "c22f0112-752f-474a-905a-3bc0d79e15da",
   "metadata": {},
   "outputs": [
    {
     "name": "stdout",
     "output_type": "stream",
     "text": [
      "Sample function -  Time =  0.0007157326\n",
      "Pipeline FFT N=8 - Time =  0.0015652180 (with data pushing and reading) \n",
      "Pipeline FFT N=8 - Time =  0.0000243187 (time only between START-READY state)\n",
      "RMSE: 0.002072458628029\n"
     ]
    },
    {
     "data": {
      "image/png": "[encoded data removed]",
      "text/plain": [
       "<Figure size 720x288 with 1 Axes>"
      ]
     },
     "metadata": {
      "needs_background": "light"
     },
     "output_type": "display_data"
    }
   ],
   "source": [
    "#Implementation comparison -> Sample function vs FFT Implementation on FPGA (Pipeline only for FFT N = 8)\n",
    "\n",
    "#Compute FFT using sample function\n",
    "start1 = time.time()\n",
    "X_sample = fft_sample(data_complex)\n",
    "stop1 = time.time()\n",
    "\n",
    "#Compute FFT using FFT Implementation on FPGA (Pipeline only for FFT N = 8)\n",
    "start2 = time.time()\n",
    "X_fpga_r_pipeN8 , X_fpga_i_pipeN8, calc_time = fft_pipelineN8(data_real, data_imag)\n",
    "stop2 = time.time()\n",
    "\n",
    "\n",
    "X_fpga_complex_pipeN8 = np.array([])\n",
    "X_fpga_complex_pipeN8 = X_fpga_r_pipeN8 + 1j*X_fpga_i_pipeN8\n",
    "X_fpga_complex_pipeN8 = X_fpga_complex_pipeN8/1024\n",
    "\n",
    "# Error between sample implementation and fpga implementation\n",
    "X_err_pipeN8 = np.abs(X_fpga_complex_pipeN8 - X_sample)**2\n",
    "# RMSE\n",
    "X_RMSE_pipeN8 = np.sqrt(np.mean(X_err_pipeN8))\n",
    "print('Sample function -  Time = ',\"%.10f\" % (stop1-start1))\n",
    "print('Pipeline FFT N=8 - Time = ',\"%.10f\" % (stop2-start2),'(with data pushing and reading) ')\n",
    "print('Pipeline FFT N=8 - Time = ',\"%.10f\" % calc_time, '(time only between START-READY state)')\n",
    "print('RMSE:', np.round(X_RMSE_pipeN8, 15))\n",
    "fig, ax = plt.subplots(nrows=1, ncols=1, figsize=(10, 4))\n",
    "ax.plot(X_err_pipeN8)\n",
    "ax.set_ylabel('Samples bin error')\n",
    "ax.set_xlabel('Samples bin')\n",
    "plt.grid()\n",
    "plt.show()"
   ]
  },
  {
   "cell_type": "code",
   "execution_count": 132,
   "id": "b8f8437e-b30c-4404-967c-410320fb2a16",
   "metadata": {},
   "outputs": [],
   "source": [
    "## Overlay for FFT with parallel butterflies\n",
    "fft_ov = Overlay(\"fft_parallel_wrapper.xsa\")\n",
    "fft_parallel = fft_ov.fft_parallel_ip_0.mmio"
   ]
  },
  {
   "cell_type": "code",
   "execution_count": 133,
   "id": "8a4e7307-b47e-4c9d-9815-84a1541080ac",
   "metadata": {},
   "outputs": [],
   "source": [
    "# FFT Implementation on FPGA (Parallel butterflies)\n",
    "\n",
    "N_size = 8\n",
    "start_offset = 8\n",
    "data_en_offset = 12\n",
    "ready_offset = 16\n",
    "in_R_offset = 20\n",
    "in_I_offset = 24\n",
    "out_R_offset = 28\n",
    "out_I_offset = 32\n",
    "\n",
    "\n",
    "def convert_for_signed_24bit(number):\n",
    "    if number >= 0x800000:\n",
    "        return number - 0x1000000\n",
    "    else:\n",
    "        return number\n",
    "\n",
    "def fft_parall(in_r, in_i):\n",
    "    out_r = np.array([])\n",
    "    out_i = np.array([])\n",
    "    \n",
    "    fft_parallel.write(in_R_offset,int(in_r[0]))\n",
    "    fft_parallel.write(in_I_offset,int(in_i[0]))\n",
    "    \n",
    "    fft_parallel.write(start_offset,1)    \n",
    "    \n",
    "    for i in range(1, N_size):\n",
    "        fft_parallel.write(data_en_offset,1)\n",
    "        fft_parallel.write(in_R_offset,int(in_r[i]))\n",
    "        fft_parallel.write(in_I_offset,int(in_i[i]))\n",
    "        fft_parallel.write(data_en_offset,0)\n",
    "    \n",
    "    start4_ = time.time()    \n",
    "    while (fft_parallel.read(ready_offset) == 0):\n",
    "        pass\n",
    "        fft_parallel.write(data_en_offset,1)\n",
    "        fft_parallel.write(data_en_offset,0)\n",
    "    stop4_ = time.time()\n",
    "        \n",
    "    for i in range(N_size):\n",
    "        fft_parallel.write(data_en_offset,1)\n",
    "        out_r = np.append(out_r, fft_parallel.read(out_R_offset))\n",
    "        out_i = np.append(out_i, fft_parallel.read(out_I_offset))\n",
    "        fft_parallel.write(data_en_offset,0)\n",
    "    for i in range(N_size):\n",
    "        out_r[i] = convert_for_signed_24bit(out_r[i])\n",
    "        out_i[i] = convert_for_signed_24bit(out_i[i])\n",
    "    fft_parallel.write(start_offset,0)\n",
    "    return (out_r, out_i,stop4_-start4_)"
   ]
  },
  {
   "cell_type": "code",
   "execution_count": 135,
   "id": "c08c6663-a1a2-4c59-891e-c63682ff2d23",
   "metadata": {},
   "outputs": [
    {
     "name": "stdout",
     "output_type": "stream",
     "text": [
      "Sample function -  Time =  0.0005798340\n",
      "Parallel FFT    -  Time =  0.0018868446 (with data pushing and reading) \n",
      "Parallel FFT    -  Time =  0.0000433922 (time only between START-READY state)\n",
      "RMSE: 0.002072458628029\n"
     ]
    },
    {
     "data": {
      "image/png": "[encoded data removed]",
      "text/plain": [
       "<Figure size 720x288 with 1 Axes>"
      ]
     },
     "metadata": {
      "needs_background": "light"
     },
     "output_type": "display_data"
    }
   ],
   "source": [
    "#Implementation comparison -> Sample function vs FFT Implementation on FPGA (Parallel Butterflies)\n",
    "\n",
    "#Compute FFT using sample function\n",
    "start3 = time.time()\n",
    "X_sample = fft_sample(data_complex)\n",
    "stop3 = time.time()\n",
    "\n",
    "#Compute FFT using FFT Implementation on FPGA (Parallel Butterflies)\n",
    "start4 = time.time()\n",
    "X_fpga_r_parallel , X_fpga_i_parallel, calc_time_parallel = fft_parall(data_real, data_imag)\n",
    "stop4 = time.time()\n",
    "\n",
    "X_fpga_complex_parallel = np.array([])\n",
    "X_fpga_complex_parallel = X_fpga_r_parallel + 1j*X_fpga_i_parallel\n",
    "X_fpga_complex_parallel = X_fpga_complex_parallel/1024\n",
    "\n",
    "# Error between sample implementation and fpga implementation\n",
    "X_err_parallel = np.abs(X_fpga_complex_parallel - X_sample)**2\n",
    "# RMSE\n",
    "X_RMSE_parallel = np.sqrt(np.mean(X_err_parallel))\n",
    "print('Sample function -  Time = ',\"%.10f\" % (stop3-start3))\n",
    "print('Parallel FFT    -  Time = ',\"%.10f\" % (stop4-start4),'(with data pushing and reading) ')\n",
    "print('Parallel FFT    -  Time = ',\"%.10f\" % calc_time_parallel, '(time only between START-READY state)')\n",
    "print('RMSE:', np.round(X_RMSE_parallel, 15))\n",
    "fig, ax = plt.subplots(nrows=1, ncols=1, figsize=(10, 4))\n",
    "ax.plot(X_err_parallel)\n",
    "ax.set_ylabel('Samples bin error')\n",
    "ax.set_xlabel('Samples bin')\n",
    "plt.grid()\n",
    "plt.show()"
   ]
  },
  {
   "cell_type": "code",
   "execution_count": 136,
   "id": "a6689854-51d5-43c3-94ee-e19452a792dc",
   "metadata": {},
   "outputs": [],
   "source": [
    "## Overlay for FFT with parallel butterflies\n",
    "fft_ov = Overlay(\"fft_seq_wrapper.xsa\")\n",
    "fft_seq = fft_ov.fft_seq_ip_0.mmio"
   ]
  },
  {
   "cell_type": "code",
   "execution_count": 137,
   "id": "8390325d-a12e-4a8d-839f-78fbe9d6b945",
   "metadata": {},
   "outputs": [],
   "source": [
    "# FFT Implementation on FPGA (Parallel butterflies)\n",
    "\n",
    "N_size = 8\n",
    "start_offset = 8\n",
    "data_en_offset = 12\n",
    "ready_offset = 16\n",
    "in_R_offset = 20\n",
    "in_I_offset = 24\n",
    "out_R_offset = 28\n",
    "out_I_offset = 32\n",
    "\n",
    "\n",
    "def convert_for_signed_24bit(number):\n",
    "    if number >= 0x800000:\n",
    "        return number - 0x1000000\n",
    "    else:\n",
    "        return number\n",
    "\n",
    "def fft_sequential(in_r, in_i):\n",
    "    out_r = np.array([])\n",
    "    out_i = np.array([])\n",
    "    \n",
    "    fft_seq.write(in_R_offset,int(in_r[0]))\n",
    "    fft_seq.write(in_I_offset,int(in_i[0]))\n",
    "    \n",
    "    fft_seq.write(start_offset,1)    \n",
    "    \n",
    "    for i in range(1,N_size):\n",
    "        fft_seq.write(data_en_offset,1)\n",
    "        fft_seq.write(in_R_offset,int(in_r[i]))\n",
    "        fft_seq.write(in_I_offset,int(in_i[i]))\n",
    "        fft_seq.write(data_en_offset,0)\n",
    "    \n",
    "    start6_ = time.time()    \n",
    "    while (fft_seq.read(ready_offset) == 0):\n",
    "        pass\n",
    "        fft_seq.write(data_en_offset,1)\n",
    "        fft_seq.write(data_en_offset,0)\n",
    "    \n",
    "    stop6_ = time.time()\n",
    "        \n",
    "    for i in range(N_size):\n",
    "        fft_seq.write(data_en_offset,1)\n",
    "        out_r = np.append(out_r, fft_seq.read(out_R_offset))\n",
    "        out_i = np.append(out_i, fft_seq.read(out_I_offset))\n",
    "        fft_seq.write(data_en_offset,0)\n",
    "    for i in range(N_size):\n",
    "        out_r[i] = convert_for_signed_24bit(out_r[i])\n",
    "        out_i[i] = convert_for_signed_24bit(out_i[i])\n",
    "    fft_seq.write(start_offset,0)\n",
    "    return (out_r, out_i,stop6_-start6_)"
   ]
  },
  {
   "cell_type": "code",
   "execution_count": 138,
   "id": "0a12d088-182b-427c-a17a-e8440e0ee5f9",
   "metadata": {},
   "outputs": [
    {
     "name": "stdout",
     "output_type": "stream",
     "text": [
      "Sample function -  Time =  0.0005526543\n",
      "Sequential FFT  -  Time =  0.0019176006 (with data pushing and reading) \n",
      "Sequential FFT  -  Time =  0.0000419617 (time only between START-READY state)\n",
      "RMSE: 0.002072458628029\n"
     ]
    },
    {
     "data": {
      "image/png": "[encoded data removed]",
      "text/plain": [
       "<Figure size 720x288 with 1 Axes>"
      ]
     },
     "metadata": {
      "needs_background": "light"
     },
     "output_type": "display_data"
    }
   ],
   "source": [
    "#Implementation comparison -> Sample function vs FFT Implementation on FPGA (Parallel Butterflies)\n",
    "\n",
    "#Compute FFT using sample function\n",
    "start5 = time.time()\n",
    "X_sample = fft_sample(data_complex)\n",
    "stop5 = time.time()\n",
    "\n",
    "#Compute FFT using FFT Implementation on FPGA (Parallel Butterflies)\n",
    "start6 = time.time()\n",
    "X_fpga_r_seq , X_fpga_i_seq, calc_time_seq = fft_sequential(data_real, data_imag)\n",
    "stop6 = time.time()\n",
    "\n",
    "X_fpga_complex_seq = np.array([])\n",
    "X_fpga_complex_seq = X_fpga_r_seq + 1j*X_fpga_i_seq\n",
    "X_fpga_complex_seq = X_fpga_complex_seq/1024\n",
    "\n",
    "# Error between sample implementation and fpga implementation\n",
    "X_err_seq = np.abs(X_fpga_complex_seq - X_sample)**2\n",
    "# RMSE\n",
    "X_RMSE_seq = np.sqrt(np.mean(X_err_seq))\n",
    "print('Sample function -  Time = ',\"%.10f\" % (stop5-start5))\n",
    "print('Sequential FFT  -  Time = ',\"%.10f\" % (stop6-start6),'(with data pushing and reading) ')\n",
    "print('Sequential FFT  -  Time = ',\"%.10f\" % calc_time_seq, '(time only between START-READY state)')\n",
    "print('RMSE:', np.round(X_RMSE_seq, 15))\n",
    "fig, ax = plt.subplots(nrows=1, ncols=1, figsize=(10, 4))\n",
    "ax.plot(X_err_seq)\n",
    "ax.set_ylabel('Samples bin error')\n",
    "ax.set_xlabel('Samples bin')\n",
    "plt.grid()\n",
    "plt.show()"
   ]
  },
  {
   "cell_type": "code",
   "execution_count": 139,
   "id": "2e733d6e-6e1b-4bd7-95cf-3e0c6ca553fd",
   "metadata": {},
   "outputs": [
    {
     "name": "stdout",
     "output_type": "stream",
     "text": [
      "Sample function -  Time =  0.0005798340\n",
      "Pipeline FFT N=8 - Time =  0.0015652180 (with data pushing and reading) \n",
      "Pipeline FFT N=8 - Time =  0.0000243187 (time only between START-READY state)\n",
      "\n",
      "Parallel FFT    -  Time =  0.0018868446 (with data pushing and reading) \n",
      "Parallel FFT    -  Time =  0.0000433922 (time only between START-READY state)\n",
      "\n",
      "Sequential FFT  -  Time =  0.0019176006 (with data pushing and reading) \n",
      "Sequential FFT  -  Time =  0.0000419617 (time only between START-READY state)\n",
      "\n",
      "RMSE pipeline FFT: 0.002072458628029\n",
      "RMSE parallel FFT: 0.002072458628029\n",
      "RMSE sequential FFT: 0.002072458628029\n"
     ]
    }
   ],
   "source": [
    "#Implementation comparison\n",
    "\n",
    "print('Sample function -  Time = ',\"%.10f\" % (stop3-start3))\n",
    "print('Pipeline FFT N=8 - Time = ',\"%.10f\" % (stop2-start2),'(with data pushing and reading) ')\n",
    "print('Pipeline FFT N=8 - Time = ',\"%.10f\" % calc_time, '(time only between START-READY state)')\n",
    "print('')\n",
    "print('Parallel FFT    -  Time = ',\"%.10f\" % (stop4-start4),'(with data pushing and reading) ')\n",
    "print('Parallel FFT    -  Time = ',\"%.10f\" % calc_time_parallel, '(time only between START-READY state)')\n",
    "print('')\n",
    "print('Sequential FFT  -  Time = ',\"%.10f\" % (stop6-start6),'(with data pushing and reading) ')\n",
    "print('Sequential FFT  -  Time = ',\"%.10f\" % calc_time_seq, '(time only between START-READY state)')\n",
    "print('')\n",
    "print('RMSE pipeline FFT:', np.round(X_RMSE_pipeN8, 15))\n",
    "print('RMSE parallel FFT:', np.round(X_RMSE_parallel, 15))\n",
    "print('RMSE sequential FFT:', np.round(X_RMSE_seq, 15))"
   ]
  },
  {
   "cell_type": "code",
   "execution_count": null,
   "id": "368a0fea-fb7c-49bf-a221-493e90a48913",
   "metadata": {},
   "outputs": [],
   "source": []
  }
 ],
 "metadata": {
  "kernelspec": {
   "display_name": "Python 3 (ipykernel)",
   "language": "python",
   "name": "python3"
  },
  "language_info": {
   "codemirror_mode": {
    "name": "ipython",
    "version": 3
   },
   "file_extension": ".py",
   "mimetype": "text/x-python",
   "name": "python",
   "nbconvert_exporter": "python",
   "pygments_lexer": "ipython3",
   "version": "3.10.12"
  }
 },
 "nbformat": 4,
 "nbformat_minor": 5
}
