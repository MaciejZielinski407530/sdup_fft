{
 "cells": [
  {
   "cell_type": "markdown",
   "id": "1dd934d6-6db7-4087-944d-7a6141db732d",
   "metadata": {
    "tags": []
   },
   "source": [
    "# Szybka Transformacja Fouriera FFT"
   ]
  },
  {
   "cell_type": "markdown",
   "id": "13a0feea-4a59-47f0-94a9-917dd4c18218",
   "metadata": {},
   "source": [
    "Celem niniejszego projektu było zaprojektowanie oraz zaimplementowanie algorytmu szybkiej transformacji Fouriera (FFT – Fast Fourier Transform) w układzie FPGA oraz opracowanie zewnętrznego oprogramowania umożliwiającego praktyczne wykorzystanie koprocesora i demonstrację poprawności jego działania. Do realizacji projektu wykorzystano Vivado 2022.1, Pycharm, Python. 3.9, platforma PYNQ oraz płytkę Kria KV260.\n",
    "\n",
    "Transformacja Fouriera jest jedną z podstawowych transformacji matematycznych. Używana jest ona szczególnie często w technice, gdzie służy do analizy oraz syntezy sygnałów dźwiękowych, telekomunikacyjnych lub obrazów.\n",
    "\n",
    "Wykonanie projektu rozpoczęto od teoretycznej analizy zagadnienia. Początkowo algorytm zaimplementowano w języku Matlab oraz Python, a następnie przeniesiono go do języka Verilog, gdzie wykonano pierwsze symulacje działania. W pierwszej wersji algorytm zrealizowany był całkowicie sekwencyjnie, tj. dane były przetwarzane po kolei przez każdy krok algorytmu. Następnie program został podzielony na funkcjonalne moduły, co znacznie zwiększyło elastyczność i umożliwiło stworzenie kolejnej wersji projektu. Wersja ta zakładała równoległe wykonywanie kolejnych (opisanych szczegółowo w późniejszych sekcjach dokumentu) kroków, co skutkowało istotnym zwiększeniem wydajności algorytmu. Ze względu na blokową naturę FFT ułatwiona była także dalsza rozbudowa o swoistą potokowość, która umożliwiła dodatkowe zwiększenie szybkości.\n"
   ]
  },
  {
   "cell_type": "markdown",
   "id": "805c9f3d-004e-4ac8-80bc-36e07db1ebb8",
   "metadata": {
    "tags": []
   },
   "source": [
    "# Opis teoretyczny algorytmu\n",
    "## Transformacja Fouriera\n",
    "\n",
    "Transformacja Fouriera (FT – Fourier Transform), w ujęciu technicznym, jest operacją pozwalającą na przekształcenie dowolnych danych w funkcji czasu na odpowiadające dane w funkcji częstotliwości, tj. na obliczenie widma danego sygnału wejściowego. Zarówno dane wejściowe, jak i wyjściowe, są liczbami zespolonymi, dzięki czemu możliwa jest reprezentacja zależności fazowych w sygnale. Sama transformacja Fouriera operuje na danych ciągłych, stąd jest nierealizowalna w oprogramowaniu. Istnieje natomiast jej odpowiednik operujący na policzalnym zbiorze danych, zwany dyskretną transformacją Fouriera (DFT – Discrete Fourier Transform). Algorytm DFT jest niemalże identyczny, jak ten dla FT, z tym że operuje na dyskretnych danych oraz współczynnikach. Jego zaletą jest możliwość obliczenia transformaty dla zbioru danych o dowolnej wielkości, niemniej będąc algorytmem wymagającym czasowo: jego złożoność obliczeniowa jest proporcjonalna do kwadratu ilości danych (O(n2)), co wiąże się z ogromnymi czasami obliczeń dla dużych zbiorów, niejednokrotnie zbyt dużymi do praktycznego zastosowania.\n",
    "\n",
    "## Szybka transformacja Fouriera\n",
    "\n",
    "Przy pewnych założeniach co do ilości danych problem dużej złożoności obliczeniowej jest jednak rozwiązywalny. Algorytm Cooleya-Tukeya polega na rozbiciu DFT o długości N na N1 transformacji o długości N2. Algorytm ten można zastosować rekurencyjnie, ostatecznie dochodząc do trywialnego DFT o długości 1. Szczególnym przypadkiem tego algorytmu jest rekursywny podział DFT o długości N na dwa DFT o długości N/2. Takie wyrażenie algorytmu nazywane jest lematem Danielsona-Lanczosa. W ogólności, na mocy lematu Danielsona-Lanczosa, DFT można obliczyć jako sumę dwóch DFT po elementach parzystych oraz nieparzystych wraz z odpowiednim współczynnikiem:\n",
    "<center>\n",
    "<img src=\"./images/wzor.png\" width=\"300\"/>\n",
    "</center>\n",
    "gdzie X_n oraz x_n to, odpowiednio, elementy wektora wyjściowego i wejściowego, a W_N^n=e^((-j2πn)/N) jest współczynnikiem zwanym z ang. twiddle factor. Jeśli założymy, że dane wejściowe mają długość równą N=2^r, a r jest liczbą naturalną większą od zera, to takie DFT może zostać łatwo obliczone poprzez rekurencyjny podział i przeplot mniejszych transformacji.\n",
    "\n",
    "Algorytm Cooleya-Tukeya, dla N będącego potęgą liczby 2, można zaprezentować za pomocą tzw. diagramu motylkowego. Diagram taki, dla N=8, przedstawiono na rysunku.\n",
    "\n",
    "<center>\n",
    "<img src=\"./images/butterfly.png\" width=\"300\"/>\n",
    "</center>\n",
    " \n",
    "Trzeba zauważyć, że indeksy elementów wejściowych są w nietypowej kolejności. Kolejność tę uzyskuje się przez odwrócenie bitów indeksów. Odwrócenie bitów indeksów wejściowych nazywane jest decymacją w czasie (DIT – decimation-in-time) i jest najczęściej spotykanym rozwiązaniem, choć możliwa jest również decymacja w częstotliwości (DIF – decimation-in-frequency). Operacja odwrócenia bitów jest konieczna dla zbudowania diagramu motylkowego i efektywnego obliczenia DFT. Analizując podany wcześniej wzór dla kolejnych kroków algorytmu można zauważyć, że do obliczenia każdego kolejnego kroku wykorzystywane są jedynie wyniki poprzednich kroków oraz współczynniki twiddle factor i nie jest konieczne obliczenie wartości eksponencjalnych czynników widocznych we wzorze. Ciekawą właściwością opisywanego algorytmu jest możliwość obliczeń w miejscu (ang. in place, łac. in situ), tj. użycie pamięci niezależne od długości danych, a także znacznie zmniejszona złożoność obliczeniowa (O(N*log2(N)). Dzięki temu algorytm ten jest jednym z przykładów szybkiej transformacji Fouriera (FFT – Fast Fourier Transform).\n",
    "Na diagramie można zauważyć, że w każdym etapie (stage) wykorzystywana jest taka sama liczba motylków (przecinających się linii) równa N/2, a liczba etapów jest zawsze równa log2(N). Ponadto wszystkie motylki w danym etapie korzystają z innych danych i nie wpływają na siebie wzajemnie. Tym samym algorytm ten dobrze nadaje się do implementacji w układach FPGA, po pierwsze umożliwiając równoległe wykonywanie obliczeń przez wszystkie motylki, a po drugie naturalnie dzieląc algorytm na kroki, umożliwiając zastosowanie struktury typu pipeline.\n",
    "\n",
    "\n"
   ]
  },
  {
   "cell_type": "markdown",
   "id": "3d06735a-d972-46d2-8376-c38ccf75af56",
   "metadata": {},
   "source": [
    "# Projekt Verilog\n",
    "Pierwsza wersja algorytmu zakładała sekwencyjne wejście danych, a następnie wykonywanie pojedynczo każdej z operacji motylka. Algorytm poruszał się zgodnie z maszyną stanów przedstawioną na wrysunku poniżej.\n",
    "<center>\n",
    "<img src=\"./images/fsm.png\" style=\"height: 500px;\"/>\n",
    "</center>\n",
    "Opis maszyny stanów:\n",
    "\n",
    "- ILDE – oczekiwanie na zewnętrzny sygnał startu\n",
    "- CLOCKING_IN – stan odpowiedzialny za pobieranie danych wejściowych i ustawianie ich w odpowiedniej kolejności w buforze. Dane pobierane są z wejścia modułu z każdym taktem zegara, aż do momentu pobrania odpowiedniej liczby danych określonych przez parametr FFT_SIZE.\n",
    "- CALCULATING – stan, w którym obliczane jest FFT z danych wejściowych.\n",
    "- CLOCKING_OUT – stan odpowiedzialny za wysyłanie danych do wyjścia. Kolejne dane wysyłane są wraz z każdym cyklem zegara.\n",
    "\n",
    "Ważnym elementem utworzonego algorytmu jest jego responsywność, która umożliwia dostosować rozmiar obliczanego FFT poprzez ustawienie parametru FFT_SIZE.\n",
    "\n",
    "Kolejna wersja algorytmu zakłada zwiększenie szybkości poprzedniej wersji. Z racji, że w każdym kolejnym stopniu FFT wykonywana jest ta sama ilość operacji motylkowych, zdecydowano się je zrównoleglić. W tym celu w module fft.v tworzone jest kilka instancji modułu butterfly.v. Ilość tworzonych motylków zależy od rozmiaru FFT, a dokładnie od log2(Rozmiar FFT). Wykorzystane moduły oraz maszyna stanów zaczerpnięta została z pierwszej wersji algorytm\n",
    "\n",
    "Trzecią wersją był algorytm, który pomijał maszynę stanów oraz zakładał, że wszystkie dane podawane są jednocześnie na wejście modułu. Następnie wykonywał on operacje odwracania bitów indeksów danych wejściowych. Kolejnym krokiem było stworzenie log2(Rozmiar_FFT) stopni FFT, które wykonywane były jeden po drugim. W każdym stopniu tworzona była odpowiednia ilość instancji motylków, a następnie przydzielono każdej z instancji odpowiednie dane wejściowe. Po wykonaniu każdego stopnia otrzymane dane przekazywane był do kolejnych stopni. Ostatni stopień przekazywał dane na wyjście modułu. Algorytm również napisany został w sposób responsywny dla różnej wartości FFT.\n",
    "\n",
    "Każda z wersji algorytmu przechodziła poprawnie tworzone symulacje oraz syntezę. W algorytmach wykorzystywane są liczby 24-bitowe, gdzie 14 bitów to część całkowita natomiast 10 bitów przeznaczono na cześć ułamkową.\n",
    "\n",
    "Ostateczna, czwarta wersja projektu to zmodyfikowany algorytm z wersji 2 rozwinięty o działanie potokowe. Zbudowaną maszynę stanu rozdzielono na 3 osobne moduły: clocking in, calculating, clocking out. Pozwalały one odpowiednio pobierać dane, obliczać FFT oraz wysłać dane wynikowe. Główną cechą jest to, że każdy z modułów pracuje niezależnie, więc możliwe jest wykonywanie równocześnie odpowiednich etapów dla 3 kolejnych zestawów danych. Z racji, że układ obliczający trwa najwięcej cykli zegara, więc to on wymusza czas trwania pozostałych układów. Układ pobierający dane wejściowe zapisuje dane z każdym cyklem zegara, aż do momentu zebrania 8 próbek (rozmiar FFT). Następnie oczekuje na sygnał gotowości do pobrania nowych danych przez układ obliczający. Po takim sygnale przekazuje zebrane dane i zaczyna ponownie pobierać kolejny zestaw próbek. Moduł obliczający po odbiorze zestawu nowych danych oblicza FFT, a po zakończeniu obliczeń przekazuje wynik do układu wysyłającego. Ostatni moduł po otrzymaniu wyniku z poprzedniego bloku, wystawia z każdym cyklem zegara pojedynczo każdą z liczb wynikowych na wyjście całego układu FFT. Po wystawieniu wszystkich liczb (8) ponownie oczekuje na dane z układu obliczającego. Na rysunku poniżej przedstawiono schemat blokowy działania całego modułu FFT wraz ze wszystkimi sygnałami wejściowym i wyjściowymi dla magistrali AXI Stream. Projekt skonfigurowano dla FFT o rozmiarze 8 oraz danych 16 bitowych (format 10:6).\n",
    "<center>\n",
    "<img src=\"./images/pipeline_schemat.png\" style=\"height: 500px;\" />\n",
    "</center>"
   ]
  },
  {
   "cell_type": "code",
   "execution_count": 47,
   "id": "c5921c1c-ed3e-4672-afb1-04b584d9b052",
   "metadata": {},
   "outputs": [],
   "source": [
    "#IMPORTANT IMPORT\n",
    "from pynq import Overlay\n",
    "from pynq import allocate\n",
    "\n",
    "import numpy as np\n",
    "import time\n",
    "import math\n",
    "import matplotlib.pyplot as plt"
   ]
  },
  {
   "cell_type": "markdown",
   "id": "c6971eb5-de61-4921-94a4-409de25e2e06",
   "metadata": {},
   "source": [
    "# Implementacje wykorzystujące AXI - Lite\n",
    "\n",
    "Ostatnim etapem projektu było przetestowanie stworzonych algorytmów ze sprzętem. W tym celu stworzone algorytmy zamknięto w osobne układy IP-Core, a następnie połączono z procesorem przy użyci magistrali AXI-Lite. Przykładowy diagram blokowy dla jednego z algorytmów przedstawiono poniżej.\n",
    "<center>\n",
    "<img src=\"./images/block_diagram_1.png\" width=\"800\"/>\n",
    "</center>\n",
    "\n",
    "Mimo responsywności stworzonych algorytmów, aby wygenerować bitstream należało wcześniej zdecydować się na rozmiar FFT. Dla wszystkich 3 algorytmów zdecydowano się ustawić rozmiar FFT na 8. W algorytmach wykorzystujących maszynę stanów, dane wprowadzane są sekwencyjnie jedna po drugiej, więc przy tworzeniu IP Cora wykorzystano 2 rejestry danych wejściowych (część rzeczywista i urojona), 2 rejestry danych wyjściowych oraz rejestry sygnalizacyjne. Natomiast dla trzeciej wersji projektu, która wymagała wprowadzenia jednocześnie wszystkich danych, wykorzystano 16 rejestrów danych wejściowych (8 liczb część rzeczywista oraz 8 liczb część urojona) oraz 16 rejestrów danych wyjściowych i rejestry sygnalizacyjne. Dla algorytmów 1 i 2 istnieje możliwość wygenerowania kolejnego bitstreamu z ustawionym większym rozmiarem FFT. Dla algorytmu 3 uzyskanie wersji dla większego rozmiaru FFT jest bardziej skomplikowane i zmusza do wykorzystania większej ilości rejestrów.\n",
    "\n",
    "Poniżej zaimplementowano stworzoną wcześniej funkcję wzorcową w Pythonie, a następnie utworzony został generator losowych próbek. W dalszej części notatnika tworzono overlay dla każdej wersji algorytmu oraz obliczano FFT dla tych samych danych wejściowych i porównywano z wynikiem funkcji wzorcowej. Błędy obliczeniowe dla każdej z próbek w danej implementacji algorytmu przedstawiane są na wykresie. Dodatkowo obliczana została średnia kwadratowa błędu RMSE (ang. Root Mean Square Error) wyrażana wzorem: \n",
    "<center>\n",
    "<img src=\"./images/wzor2.png\" width=\"300\"/>\n",
    "</center>\n",
    "gdzie:\n",
    "\n",
    "- X – obliczona wartość próbki przez układ FPGA,\n",
    "- Z – obliczona wartość próbki przez funkcje wzorcową,\n",
    "- N – rozmiar FFT.\n"
   ]
  },
  {
   "cell_type": "code",
   "execution_count": 48,
   "id": "a6ee4b0f-2762-4ade-aaa1-7fd2a1ff604d",
   "metadata": {},
   "outputs": [],
   "source": [
    "#Sample function\n",
    "\n",
    "def fft_sample(x):\n",
    "    N = len(x)\n",
    "    if N == 1:\n",
    "        return [x[0]]\n",
    "    X = [0] * N\n",
    "    even = fft_sample(x[:N:2])\n",
    "    odd = fft_sample(x[1:N:2])\n",
    "    for k in range(N // 2):\n",
    "        w = math.e ** (-2j * math.pi * k / N)\n",
    "        X[k] = even[k] + w * odd[k]\n",
    "        X[k + N // 2] = even[k] - w * odd[k]\n",
    "    return X"
   ]
  },
  {
   "cell_type": "code",
   "execution_count": 49,
   "id": "bb5c71f6-c3a2-4ee8-be07-3525e6f249b1",
   "metadata": {
    "tags": []
   },
   "outputs": [],
   "source": [
    "# Sample generator\n",
    "N = 8\n",
    "FXP = 1024\n",
    "data_real = np.array([])\n",
    "data_imag = np.array([])\n",
    "data_complex = np.array([])\n",
    "\n",
    "for i in range (N):\n",
    "    data_real = np.append(data_real,np.random.rand())\n",
    "    data_imag = np.append(data_imag,np.random.rand())\n",
    "\n",
    "data_complex = data_real + 1j*data_imag    \n",
    "\n",
    "\n",
    "#Convert data to data fixed-point 14:10\n",
    "for i in range (N):\n",
    "    data_real[i] =  int(data_real[i]*FXP)\n",
    "    data_imag[i] =  int(data_imag[i]*FXP)\n",
    "  "
   ]
  },
  {
   "cell_type": "code",
   "execution_count": 50,
   "id": "a6689854-51d5-43c3-94ee-e19452a792dc",
   "metadata": {},
   "outputs": [],
   "source": [
    "## Overlay for FFT Version 1 (with one butterfly)\n",
    "fft_ov = Overlay(\"fft_seq_wrapper.xsa\")\n",
    "fft_seq = fft_ov.fft_seq_ip_0.mmio"
   ]
  },
  {
   "cell_type": "code",
   "execution_count": 51,
   "id": "8390325d-a12e-4a8d-839f-78fbe9d6b945",
   "metadata": {},
   "outputs": [],
   "source": [
    "# FFT Implementation on FPGA (with one butterfly)\n",
    "\n",
    "N_size = 8\n",
    "start_offset = 8\n",
    "data_en_offset = 12\n",
    "ready_offset = 16\n",
    "in_R_offset = 20\n",
    "in_I_offset = 24\n",
    "out_R_offset = 28\n",
    "out_I_offset = 32\n",
    "\n",
    "\n",
    "def convert_for_signed_24bit(number):\n",
    "    if number >= 0x800000:\n",
    "        return number - 0x1000000\n",
    "    else:\n",
    "        return number\n",
    "\n",
    "def fft_sequential(in_r, in_i):\n",
    "    out_r = np.array([])\n",
    "    out_i = np.array([])\n",
    "    \n",
    "    fft_seq.write(start_offset,1)    \n",
    "    \n",
    "    for i in range(N_size):\n",
    "        fft_seq.write(data_en_offset,0)\n",
    "        fft_seq.write(in_R_offset,int(in_r[i]))\n",
    "        fft_seq.write(in_I_offset,int(in_i[i]))\n",
    "        fft_seq.write(data_en_offset,1)\n",
    "        \n",
    "    fft_seq.write(data_en_offset,0) \n",
    "    while (fft_seq.read(ready_offset) == 0):\n",
    "        pass\n",
    "     \n",
    "    for i in range(N_size):\n",
    "        fft_seq.write(data_en_offset,1)\n",
    "        out_r = np.append(out_r, fft_seq.read(out_R_offset))\n",
    "        out_i = np.append(out_i, fft_seq.read(out_I_offset))\n",
    "        fft_seq.write(data_en_offset,0)\n",
    "    for i in range(N_size):\n",
    "        out_r[i] = convert_for_signed_24bit(out_r[i])\n",
    "        out_i[i] = convert_for_signed_24bit(out_i[i])\n",
    "    fft_seq.write(start_offset,0)\n",
    "    return (out_r, out_i)"
   ]
  },
  {
   "cell_type": "code",
   "execution_count": 52,
   "id": "0a12d088-182b-427c-a17a-e8440e0ee5f9",
   "metadata": {},
   "outputs": [
    {
     "name": "stdout",
     "output_type": "stream",
     "text": [
      "RMSE: 0.002505764784762\n"
     ]
    },
    {
     "data": {
      "image/png": "[encoded data removed]",
      "text/plain": [
       "<Figure size 720x288 with 1 Axes>"
      ]
     },
     "metadata": {
      "needs_background": "light"
     },
     "output_type": "display_data"
    }
   ],
   "source": [
    "#Implementation comparison -> Sample function vs FFT Implementation on FPGA (with one butterfly)\n",
    "\n",
    "#Compute FFT using sample function\n",
    "X_sample = fft_sample(data_complex)\n",
    "\n",
    "#Compute FFT using FFT Implementation on FPGA (with one butterfly)\n",
    "X_fpga_r_seq , X_fpga_i_seq = fft_sequential(data_real, data_imag)\n",
    "\n",
    "X_fpga_complex_seq = np.array([])\n",
    "X_fpga_complex_seq = X_fpga_r_seq + 1j*X_fpga_i_seq\n",
    "X_fpga_complex_seq = X_fpga_complex_seq/FXP\n",
    "\n",
    "# Error between sample implementation and fpga implementation\n",
    "X_err_seq = np.abs(X_fpga_complex_seq - X_sample)**2\n",
    "# RMSE\n",
    "X_RMSE_seq = np.sqrt(np.mean(X_err_seq))\n",
    "print('RMSE:', np.round(X_RMSE_seq, 15))\n",
    "fig, ax = plt.subplots(nrows=1, ncols=1, figsize=(10, 4))\n",
    "ax.plot(X_err_seq)\n",
    "ax.set_ylabel('Samples error')\n",
    "ax.set_xlabel('Samples')\n",
    "plt.grid()\n",
    "plt.show()"
   ]
  },
  {
   "cell_type": "code",
   "execution_count": 53,
   "id": "b8f8437e-b30c-4404-967c-410320fb2a16",
   "metadata": {},
   "outputs": [],
   "source": [
    "## Overlay for FFT Version 2 (with parallel butterflies)\n",
    "fft_ov = Overlay(\"fft_parallel_wrapper.xsa\")\n",
    "fft_parallel = fft_ov.fft_parallel_ip_0.mmio"
   ]
  },
  {
   "cell_type": "code",
   "execution_count": 54,
   "id": "8a4e7307-b47e-4c9d-9815-84a1541080ac",
   "metadata": {},
   "outputs": [],
   "source": [
    "# FFT Implementation on FPGA (with parallel butterflies)\n",
    "\n",
    "N_size = 8\n",
    "start_offset = 8\n",
    "data_en_offset = 12\n",
    "ready_offset = 16\n",
    "in_R_offset = 20\n",
    "in_I_offset = 24\n",
    "out_R_offset = 28\n",
    "out_I_offset = 32\n",
    "\n",
    "\n",
    "def convert_for_signed_24bit(number):\n",
    "    if number >= 0x800000:\n",
    "        return number - 0x1000000\n",
    "    else:\n",
    "        return number\n",
    "\n",
    "def fft_parall(in_r, in_i):\n",
    "    out_r = np.array([])\n",
    "    out_i = np.array([])\n",
    "    \n",
    "    fft_parallel.write(start_offset,1)    \n",
    "    \n",
    "    for i in range(N_size):\n",
    "        fft_parallel.write(data_en_offset,0)\n",
    "        fft_parallel.write(in_R_offset,int(in_r[i]))\n",
    "        fft_parallel.write(in_I_offset,int(in_i[i]))\n",
    "        fft_parallel.write(data_en_offset,1)\n",
    "    \n",
    "    fft_parallel.write(data_en_offset,0)    \n",
    "    while (fft_parallel.read(ready_offset) == 0):\n",
    "        pass\n",
    "    \n",
    "    for i in range(N_size):\n",
    "        fft_parallel.write(data_en_offset,1)\n",
    "        out_r = np.append(out_r, fft_parallel.read(out_R_offset))\n",
    "        out_i = np.append(out_i, fft_parallel.read(out_I_offset))\n",
    "        fft_parallel.write(data_en_offset,0)\n",
    "    for i in range(N_size):\n",
    "        out_r[i] = convert_for_signed_24bit(out_r[i])\n",
    "        out_i[i] = convert_for_signed_24bit(out_i[i])\n",
    "    fft_parallel.write(start_offset,0)\n",
    "    return (out_r, out_i)"
   ]
  },
  {
   "cell_type": "code",
   "execution_count": 55,
   "id": "c08c6663-a1a2-4c59-891e-c63682ff2d23",
   "metadata": {},
   "outputs": [
    {
     "name": "stdout",
     "output_type": "stream",
     "text": [
      "RMSE: 0.002505764784762\n"
     ]
    },
    {
     "data": {
      "image/png": "[encoded data removed]",
      "text/plain": [
       "<Figure size 720x288 with 1 Axes>"
      ]
     },
     "metadata": {
      "needs_background": "light"
     },
     "output_type": "display_data"
    }
   ],
   "source": [
    "#Implementation comparison -> Sample function vs FFT Implementation on FPGA (with parallel butterflies)\n",
    "\n",
    "#Compute FFT using sample function\n",
    "X_sample = fft_sample(data_complex)\n",
    "\n",
    "#Compute FFT using FFT Implementation on FPGA (with parallel butterflies)\n",
    "X_fpga_r_parallel , X_fpga_i_parallel = fft_parall(data_real, data_imag)\n",
    "\n",
    "X_fpga_complex_parallel = np.array([])\n",
    "X_fpga_complex_parallel = X_fpga_r_parallel + 1j*X_fpga_i_parallel\n",
    "X_fpga_complex_parallel = X_fpga_complex_parallel/FXP\n",
    "\n",
    "# Error between sample implementation and fpga implementation\n",
    "X_err_parallel = np.abs(X_fpga_complex_parallel - X_sample)**2\n",
    "# RMSE\n",
    "X_RMSE_parallel = np.sqrt(np.mean(X_err_parallel))\n",
    "print('RMSE:', np.round(X_RMSE_parallel, 15))\n",
    "fig, ax = plt.subplots(nrows=1, ncols=1, figsize=(10, 4))\n",
    "ax.plot(X_err_parallel)\n",
    "ax.set_ylabel('Samples error')\n",
    "ax.set_xlabel('Samples')\n",
    "plt.grid()\n",
    "plt.show()"
   ]
  },
  {
   "cell_type": "code",
   "execution_count": 56,
   "id": "1bfaa2d5-2e99-4d6b-8f82-1c4768b7f403",
   "metadata": {},
   "outputs": [],
   "source": [
    "## Overlay for FFT Version 3 (divided into stages)\n",
    "fft_ov = Overlay(\"fft_divided_stage_wrapper.xsa\")\n",
    "fft_stages = fft_ov.fft_pipe_N8_0.mmio"
   ]
  },
  {
   "cell_type": "code",
   "execution_count": 57,
   "id": "373c85e3-d590-4e9a-88f6-3df8a3511015",
   "metadata": {},
   "outputs": [],
   "source": [
    "# FFT Implementation on FPGA (divided into stages)\n",
    "N_size = 8\n",
    "start_offset = 0\n",
    "ready_offset = 132\n",
    "in_buffer_offset = [x*4 for x in range(1,17)]\n",
    "out_buffer_offset = [x*4 for x in range(17,33)]\n",
    "\n",
    "def convert_for_signed_24bit(number):\n",
    "    if number >= 0x800000:\n",
    "        return number - 0x1000000\n",
    "    else:\n",
    "        return number\n",
    "\n",
    "def fft_divided_into_stages(in_r, in_i):\n",
    "    out_r = np.array([])\n",
    "    out_i = np.array([])\n",
    "    fft_stages.write(start_offset,0)\n",
    "    for i in range(N_size):\n",
    "        fft_stages.write(in_buffer_offset[i],int(in_r[i]))\n",
    "        fft_stages.write(in_buffer_offset[i+N_size],int(in_i[i]))\n",
    "    \n",
    "    fft_stages.write(start_offset,1)\n",
    "    while (fft_stages.read(ready_offset) == 0):\n",
    "        pass \n",
    "    for i in range(N_size):\n",
    "        out_r = np.append(out_r, fft_stages.read(out_buffer_offset[i]))\n",
    "        out_i = np.append(out_i, fft_stages.read(out_buffer_offset[i+N_size]))\n",
    "    for i in range(N_size):\n",
    "        out_r[i] = convert_for_signed_24bit(out_r[i])\n",
    "        out_i[i] = convert_for_signed_24bit(out_i[i])\n",
    "    \n",
    "    return (out_r, out_i)\n",
    "    "
   ]
  },
  {
   "cell_type": "code",
   "execution_count": 59,
   "id": "c22f0112-752f-474a-905a-3bc0d79e15da",
   "metadata": {},
   "outputs": [
    {
     "name": "stdout",
     "output_type": "stream",
     "text": [
      "RMSE: 0.002505764784762\n"
     ]
    },
    {
     "data": {
      "image/png": "[encoded data removed]",
      "text/plain": [
       "<Figure size 720x288 with 1 Axes>"
      ]
     },
     "metadata": {
      "needs_background": "light"
     },
     "output_type": "display_data"
    }
   ],
   "source": [
    "#Implementation comparison -> Sample function vs FFT Implementation on FPGA (divided into stages)\n",
    "\n",
    "#Compute FFT using sample function\n",
    "X_sample = fft_sample(data_complex)\n",
    "\n",
    "#Compute FFT using FFT Implementation on FPGA (divided into stages)\n",
    "X_fpga_r_stages , X_fpga_i_stages = fft_divided_into_stages(data_real, data_imag)\n",
    "\n",
    "X_fpga_complex_stages = np.array([])\n",
    "X_fpga_complex_stages = X_fpga_r_stages + 1j*X_fpga_i_stages\n",
    "X_fpga_complex_stages = X_fpga_complex_stages/FXP\n",
    "\n",
    "# Error between sample implementation and fpga implementation\n",
    "X_err_stages = np.abs(X_fpga_complex_stages - X_sample)**2\n",
    "# RMSE\n",
    "X_RMSE_stages = np.sqrt(np.mean(X_err_stages))\n",
    "print('RMSE:', np.round(X_RMSE_stages, 15))\n",
    "fig, ax = plt.subplots(nrows=1, ncols=1, figsize=(10, 4))\n",
    "ax.plot(X_err_stages)\n",
    "ax.set_ylabel('Samples error')\n",
    "ax.set_xlabel('Samples')\n",
    "plt.grid()\n",
    "plt.show()"
   ]
  },
  {
   "cell_type": "code",
   "execution_count": 60,
   "id": "2e733d6e-6e1b-4bd7-95cf-3e0c6ca553fd",
   "metadata": {},
   "outputs": [
    {
     "name": "stdout",
     "output_type": "stream",
     "text": [
      "RMSE FFT Version 1 (with one butterfly): 0.002505764784762\n",
      "RMSE FFT Version 2 (with parallel butterflies): 0.002505764784762\n",
      "RMSE FFT Version 3 (divided into stages): 0.002505764784762\n"
     ]
    }
   ],
   "source": [
    "#Implementation comparison\n",
    "print('RMSE FFT Version 1 (with one butterfly):', np.round(X_RMSE_seq, 15))\n",
    "print('RMSE FFT Version 2 (with parallel butterflies):', np.round(X_RMSE_parallel, 15))\n",
    "print('RMSE FFT Version 3 (divided into stages):', np.round(X_RMSE_stages, 15))"
   ]
  },
  {
   "cell_type": "markdown",
   "id": "3bc15a34-420c-4aad-9f2b-29ae64ebe8e1",
   "metadata": {},
   "source": [
    "# Implementacja wykorzystujaca AXI - Stream\n",
    "Dla ostatniej wersji projektu wykorzystującej potokowość wykorzystano magistralę AXI Stream oraz układ DMA. Schemat blokowy przedstawiono poniżej.\n",
    "<center>\n",
    "<img src=\"./images/block_diagram_2.png\" width=\"800\"/>\n",
    "</center>\n",
    "Z racji, że dane nie były pobierane z DMA z każdym cyklem zegara należało odpowiednio ustawiać sygnały tvalid i tready na magistrali AXIS. W celu poprawnej implementacji należało bardzo dokładnie przeanalizować dokumentację producenta w celu zrozumienia zasady działania wszystkich sygnałów sterujących tvalid, tready i tlast. Złe ustawianie/kasowanie wymienionych sygnałów spowodowało wiele komplikacji przy uruchomianiu projektu na sprzęcie, pomimo że wyniki symulacji w testbenchu były poprawne.\n",
    "\n",
    "\n",
    "Na rysunku poniżej przedstawiono przebieg pokazujący potokowe działanie układu. Na przebiegu widać, że po odebraniu pierwszych 8 danych wejściowych ustawiany jest sygnał fft_start i jeśli sygnał fft_ready również jest w stanie wysokim moduł odbierający dane przekazuje je do układu obliczającego kasując przy tym sygnał fft_start i fft_ready. Następnie pobiera kolejne próbki i oczekuje na sygnał fft_ready oznaczający, że FFT zostało obliczone i można przekazać dane. W momencie, gdy układ obliczający skończy pracę przekazuje sygnał fft_ready jako sygnał clocker_start oznaczający, że moduł wysyłający wynik może pobrać dane do wysyłki. Po skończonej wysyłce układ clocking out wystawia sygnał clocker_ready oznaczający gotowość do pobrania nowych danych do wysyłki. Z przebiegu widać działanie potokowe układu. W momencie wysłania wyniku dla pierwszego zestawu danych pobierane są dane dla trzeciego zestawu, a drugi zestaw jest w tym czasie obliczany.\n",
    "<center>\n",
    "<img src=\"./images/potok.png\" width=\"800\"/>\n",
    "</center>\n",
    "\n",
    "W notatniku stworzono funkcję generującą zestaw losowych danych wejściowych. Liczba generowanych zestawów określona jest przez parametr N_packs, który można modyfikować. Umożliwia to wysłanie do układu FFT kilku paczek danych w celu wykorzystania zaimplementowanej potokowości. Wygenerowane dane trafiają do wcześniej alokowanego buforu wejściowego w odpowiednim formacie. Bufor składa się z liczb 32-bitowych. 16 starszych bitów każdej z liczb reprezentuje część urojoną próbki, natomiast 16 bitów młodszych reprezentuje część rzeczywistą.\n",
    "Następnie gotowy bufor wejściowy wysyłany jest do DMA, a później wynik odbierany w buforze wyjściowym.\n",
    "Końcowym etapem jest rozdzielenie wyniku na kilka zestawów w zależności od wcześniej ustawionego parametru N_packs i porównanie z wynikami funkcji wzorcowej.\n",
    "\n",
    "W przypadku tego algorytmu można zauważyć wzrost błędu między próbkami niż w przypadku pozostałych wersji algorytmów. Spowodowane jest do zmniejszeniem liczby bitów reprezentujących cześć ułamkową z 10 bitów do 6 bitów. Zdecydowano się na redukcję, aby dopasować rozmiar wysyłanych danych do DMA."
   ]
  },
  {
   "cell_type": "code",
   "execution_count": 61,
   "id": "368a0fea-fb7c-49bf-a221-493e90a48913",
   "metadata": {},
   "outputs": [],
   "source": [
    "# Sample generator for pipeline version FFT\n",
    "N_pipeline = 8\n",
    "N_packs = 3      # Number of data packs\n",
    "FXP_pipeline = 64\n",
    "data_real_pipeline = np.array([],dtype=np.int16)\n",
    "data_imag_pipeline = np.array([],dtype=np.int16)\n",
    "data_complex_pipeline = np.array([])\n",
    "\n",
    "for i in range (N_packs*N_pipeline):\n",
    "    data_real_pipeline = np.append(data_real_pipeline,np.random.rand())\n",
    "    data_imag_pipeline = np.append(data_imag_pipeline,np.random.rand())\n",
    "\n",
    "data_complex_pipeline = data_real_pipeline + 1j*data_imag_pipeline\n",
    "#Convert data to data fixed-point 10:6\n",
    "for i in range (N_packs*N_pipeline):\n",
    "    data_real_pipeline[i] =  int(data_real_pipeline[i]*FXP_pipeline)\n",
    "    data_imag_pipeline[i] =  int(data_imag_pipeline[i]*FXP_pipeline)"
   ]
  },
  {
   "cell_type": "code",
   "execution_count": 62,
   "id": "63f6b428-c3e8-4d7a-ac3b-f1ad8dbe4d9a",
   "metadata": {},
   "outputs": [],
   "source": [
    "fft_ov = Overlay(\"fft.xsa\")\n",
    "fft_pipe = fft_ov.axi_dma_0"
   ]
  },
  {
   "cell_type": "code",
   "execution_count": 63,
   "id": "935b539c-5c63-42df-995b-271f5253bb67",
   "metadata": {},
   "outputs": [],
   "source": [
    "in_buffer = allocate(shape=(N_packs*N_pipeline,), dtype=np.uint32)\n",
    "out_buffer = allocate(shape=(N_packs*N_pipeline,), dtype=np.uint32)\n",
    "array1_uint32 = data_real_pipeline.astype(np.uint32)\n",
    "array2_uint32 = data_imag_pipeline.astype(np.uint32)\n",
    "\n",
    "for i in range(N_packs*N_pipeline):\n",
    "    in_buffer[i] =(array2_uint32[i] << 16) | array1_uint32[i]"
   ]
  },
  {
   "cell_type": "code",
   "execution_count": 64,
   "id": "27a93b67-e946-4e1b-8737-e34eb6f476c9",
   "metadata": {},
   "outputs": [],
   "source": [
    "fft_pipe.sendchannel.transfer(in_buffer)\n",
    "fft_pipe.recvchannel.transfer(out_buffer)"
   ]
  },
  {
   "cell_type": "code",
   "execution_count": 65,
   "id": "417110ac-37ab-4e2b-836c-f7c265cc2bf6",
   "metadata": {},
   "outputs": [
    {
     "name": "stdout",
     "output_type": "stream",
     "text": [
      "RMSE for data pack [ 1 ] : 0.044201470720234\n"
     ]
    },
    {
     "data": {
      "image/png": "[encoded data removed]",
      "text/plain": [
       "<Figure size 720x288 with 1 Axes>"
      ]
     },
     "metadata": {
      "needs_background": "light"
     },
     "output_type": "display_data"
    },
    {
     "name": "stdout",
     "output_type": "stream",
     "text": [
      "RMSE for data pack [ 2 ] : 0.04114987826273\n"
     ]
    },
    {
     "data": {
      "image/png": "[encoded data removed]",
      "text/plain": [
       "<Figure size 720x288 with 1 Axes>"
      ]
     },
     "metadata": {
      "needs_background": "light"
     },
     "output_type": "display_data"
    },
    {
     "name": "stdout",
     "output_type": "stream",
     "text": [
      "RMSE for data pack [ 3 ] : 0.041736284134556\n"
     ]
    },
    {
     "data": {
      "image/png": "[encoded data removed]",
      "text/plain": [
       "<Figure size 720x288 with 1 Axes>"
      ]
     },
     "metadata": {
      "needs_background": "light"
     },
     "output_type": "display_data"
    }
   ],
   "source": [
    "array1_out = np.array([],dtype=np.int16)\n",
    "array2_out = np.array([],dtype=np.int16)\n",
    "X_sample_pipeline = []\n",
    "X_fpga_pipeline = []\n",
    "X_err_pipeline = []\n",
    "X_RMSE_pipeline = []\n",
    "\n",
    "for i in range(N_packs*N_pipeline):\n",
    "    array1_out = np.append(array1_out, (out_buffer[i] & 0x0000ffff).astype(np.int16))\n",
    "    array2_out = np.append(array2_out, (out_buffer[i] >> 16).astype(np.int16))\n",
    "    \n",
    "array1_out =array1_out/FXP_pipeline\n",
    "array2_out =array2_out/FXP_pipeline\n",
    "\n",
    "X_pipe = array1_out + 1j*array2_out\n",
    "for i in range(N_packs):\n",
    "    X_fpga_pipeline.append(X_pipe[N_pipeline*i:N_pipeline*(i+1)])\n",
    "for i in range(N_packs):\n",
    "    X_sample_pipeline.append(fft_sample(data_complex_pipeline[N_pipeline*i:N_pipeline*(i+1)]))\n",
    "\n",
    "for i in range(N_packs):    \n",
    "    X_err_pipeline.append(np.abs(X_fpga_pipeline[i] - X_sample_pipeline[i])**2)\n",
    "    X_RMSE_pipeline.append(np.sqrt(np.mean(X_err_pipeline)))\n",
    "\n",
    "for i in range(N_packs):\n",
    "    print('RMSE for data pack [',i+1,'] :', np.round(X_RMSE_pipeline[i], 15))\n",
    "    fig, ax = plt.subplots(nrows=1, ncols=1, figsize=(10, 4))\n",
    "    ax.plot(X_err_pipeline[i])\n",
    "    ax.set_ylabel('Samples error')\n",
    "    ax.set_xlabel('Samples')\n",
    "    plt.grid()\n",
    "    plt.show()"
   ]
  },
  {
   "cell_type": "code",
   "execution_count": 66,
   "id": "09b63134-5fbd-4245-88e7-845396c7de10",
   "metadata": {},
   "outputs": [],
   "source": [
    "del in_buffer\n",
    "del out_buffer"
   ]
  },
  {
   "cell_type": "code",
   "execution_count": null,
   "id": "a9b2218c-7357-4383-85a5-745f6986cca5",
   "metadata": {},
   "outputs": [],
   "source": []
  }
 ],
 "metadata": {
  "kernelspec": {
   "display_name": "Python 3 (ipykernel)",
   "language": "python",
   "name": "python3"
  },
  "language_info": {
   "codemirror_mode": {
    "name": "ipython",
    "version": 3
   },
   "file_extension": ".py",
   "mimetype": "text/x-python",
   "name": "python",
   "nbconvert_exporter": "python",
   "pygments_lexer": "ipython3",
   "version": "3.10.12"
  }
 },
 "nbformat": 4,
 "nbformat_minor": 5
}
